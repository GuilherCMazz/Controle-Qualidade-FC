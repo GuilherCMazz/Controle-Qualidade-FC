{
  "nbformat": 4,
  "nbformat_minor": 0,
  "metadata": {
    "colab": {
      "provenance": []
    },
    "kernelspec": {
      "name": "python3",
      "display_name": "Python 3"
    }
  },
  "cells": [
    {
      "cell_type": "code",
      "source": [
        "import io\n",
        "import pandas as pd\n",
        "from itertools import combinations"
      ],
      "metadata": {
        "id": "t28npy-797iq"
      },
      "execution_count": 3,
      "outputs": []
    },
    {
      "cell_type": "code",
      "source": [
        "# Simulando o csv\n",
        "csv = '''\n",
        "nome,cor,marca,valor\n",
        "Lapis, Verde, bic,\"11,1\"\n",
        "Caneta, Vermelho, cristal,\"12,25\"\n",
        "Lapiseira, Azul, foo,\"15,45\"\n",
        "Lapis, Verde, foo,\"12,00\"\n",
        "borracha, Branca, bar,\"10,00\"\n",
        "borracha, Verde, bar,\"11,00\"\n",
        "'''"
      ],
      "metadata": {
        "id": "5WkuZgbWEReV"
      },
      "execution_count": 4,
      "outputs": []
    },
    {
      "cell_type": "code",
      "source": [
        "# Lendo o csv\n",
        "df = pd.read_csv(io.StringIO(csv))"
      ],
      "metadata": {
        "id": "WukJtR9rJh7O"
      },
      "execution_count": 5,
      "outputs": []
    },
    {
      "cell_type": "code",
      "source": [
        "df"
      ],
      "metadata": {
        "id": "gBze5o-sZNfx",
        "colab": {
          "base_uri": "https://localhost:8080/",
          "height": 238
        },
        "outputId": "644d5d57-1dbc-4aec-c020-354f6090cda9"
      },
      "execution_count": 6,
      "outputs": [
        {
          "output_type": "execute_result",
          "data": {
            "text/plain": [
              "        nome        cor     marca  valor\n",
              "0      Lapis      Verde       bic   11,1\n",
              "1     Caneta   Vermelho   cristal  12,25\n",
              "2  Lapiseira       Azul       foo  15,45\n",
              "3      Lapis      Verde       foo  12,00\n",
              "4   borracha     Branca       bar  10,00\n",
              "5   borracha      Verde       bar  11,00"
            ],
            "text/html": [
              "\n",
              "  <div id=\"df-58f076a9-3d06-42e6-934c-ab2db98acc5d\" class=\"colab-df-container\">\n",
              "    <div>\n",
              "<style scoped>\n",
              "    .dataframe tbody tr th:only-of-type {\n",
              "        vertical-align: middle;\n",
              "    }\n",
              "\n",
              "    .dataframe tbody tr th {\n",
              "        vertical-align: top;\n",
              "    }\n",
              "\n",
              "    .dataframe thead th {\n",
              "        text-align: right;\n",
              "    }\n",
              "</style>\n",
              "<table border=\"1\" class=\"dataframe\">\n",
              "  <thead>\n",
              "    <tr style=\"text-align: right;\">\n",
              "      <th></th>\n",
              "      <th>nome</th>\n",
              "      <th>cor</th>\n",
              "      <th>marca</th>\n",
              "      <th>valor</th>\n",
              "    </tr>\n",
              "  </thead>\n",
              "  <tbody>\n",
              "    <tr>\n",
              "      <th>0</th>\n",
              "      <td>Lapis</td>\n",
              "      <td>Verde</td>\n",
              "      <td>bic</td>\n",
              "      <td>11,1</td>\n",
              "    </tr>\n",
              "    <tr>\n",
              "      <th>1</th>\n",
              "      <td>Caneta</td>\n",
              "      <td>Vermelho</td>\n",
              "      <td>cristal</td>\n",
              "      <td>12,25</td>\n",
              "    </tr>\n",
              "    <tr>\n",
              "      <th>2</th>\n",
              "      <td>Lapiseira</td>\n",
              "      <td>Azul</td>\n",
              "      <td>foo</td>\n",
              "      <td>15,45</td>\n",
              "    </tr>\n",
              "    <tr>\n",
              "      <th>3</th>\n",
              "      <td>Lapis</td>\n",
              "      <td>Verde</td>\n",
              "      <td>foo</td>\n",
              "      <td>12,00</td>\n",
              "    </tr>\n",
              "    <tr>\n",
              "      <th>4</th>\n",
              "      <td>borracha</td>\n",
              "      <td>Branca</td>\n",
              "      <td>bar</td>\n",
              "      <td>10,00</td>\n",
              "    </tr>\n",
              "    <tr>\n",
              "      <th>5</th>\n",
              "      <td>borracha</td>\n",
              "      <td>Verde</td>\n",
              "      <td>bar</td>\n",
              "      <td>11,00</td>\n",
              "    </tr>\n",
              "  </tbody>\n",
              "</table>\n",
              "</div>\n",
              "    <div class=\"colab-df-buttons\">\n",
              "\n",
              "  <div class=\"colab-df-container\">\n",
              "    <button class=\"colab-df-convert\" onclick=\"convertToInteractive('df-58f076a9-3d06-42e6-934c-ab2db98acc5d')\"\n",
              "            title=\"Convert this dataframe to an interactive table.\"\n",
              "            style=\"display:none;\">\n",
              "\n",
              "  <svg xmlns=\"http://www.w3.org/2000/svg\" height=\"24px\" viewBox=\"0 -960 960 960\">\n",
              "    <path d=\"M120-120v-720h720v720H120Zm60-500h600v-160H180v160Zm220 220h160v-160H400v160Zm0 220h160v-160H400v160ZM180-400h160v-160H180v160Zm440 0h160v-160H620v160ZM180-180h160v-160H180v160Zm440 0h160v-160H620v160Z\"/>\n",
              "  </svg>\n",
              "    </button>\n",
              "\n",
              "  <style>\n",
              "    .colab-df-container {\n",
              "      display:flex;\n",
              "      gap: 12px;\n",
              "    }\n",
              "\n",
              "    .colab-df-convert {\n",
              "      background-color: #E8F0FE;\n",
              "      border: none;\n",
              "      border-radius: 50%;\n",
              "      cursor: pointer;\n",
              "      display: none;\n",
              "      fill: #1967D2;\n",
              "      height: 32px;\n",
              "      padding: 0 0 0 0;\n",
              "      width: 32px;\n",
              "    }\n",
              "\n",
              "    .colab-df-convert:hover {\n",
              "      background-color: #E2EBFA;\n",
              "      box-shadow: 0px 1px 2px rgba(60, 64, 67, 0.3), 0px 1px 3px 1px rgba(60, 64, 67, 0.15);\n",
              "      fill: #174EA6;\n",
              "    }\n",
              "\n",
              "    .colab-df-buttons div {\n",
              "      margin-bottom: 4px;\n",
              "    }\n",
              "\n",
              "    [theme=dark] .colab-df-convert {\n",
              "      background-color: #3B4455;\n",
              "      fill: #D2E3FC;\n",
              "    }\n",
              "\n",
              "    [theme=dark] .colab-df-convert:hover {\n",
              "      background-color: #434B5C;\n",
              "      box-shadow: 0px 1px 3px 1px rgba(0, 0, 0, 0.15);\n",
              "      filter: drop-shadow(0px 1px 2px rgba(0, 0, 0, 0.3));\n",
              "      fill: #FFFFFF;\n",
              "    }\n",
              "  </style>\n",
              "\n",
              "    <script>\n",
              "      const buttonEl =\n",
              "        document.querySelector('#df-58f076a9-3d06-42e6-934c-ab2db98acc5d button.colab-df-convert');\n",
              "      buttonEl.style.display =\n",
              "        google.colab.kernel.accessAllowed ? 'block' : 'none';\n",
              "\n",
              "      async function convertToInteractive(key) {\n",
              "        const element = document.querySelector('#df-58f076a9-3d06-42e6-934c-ab2db98acc5d');\n",
              "        const dataTable =\n",
              "          await google.colab.kernel.invokeFunction('convertToInteractive',\n",
              "                                                    [key], {});\n",
              "        if (!dataTable) return;\n",
              "\n",
              "        const docLinkHtml = 'Like what you see? Visit the ' +\n",
              "          '<a target=\"_blank\" href=https://colab.research.google.com/notebooks/data_table.ipynb>data table notebook</a>'\n",
              "          + ' to learn more about interactive tables.';\n",
              "        element.innerHTML = '';\n",
              "        dataTable['output_type'] = 'display_data';\n",
              "        await google.colab.output.renderOutput(dataTable, element);\n",
              "        const docLink = document.createElement('div');\n",
              "        docLink.innerHTML = docLinkHtml;\n",
              "        element.appendChild(docLink);\n",
              "      }\n",
              "    </script>\n",
              "  </div>\n",
              "\n",
              "\n",
              "<div id=\"df-136bf88b-f4a2-4a62-b50b-b097bf65f72e\">\n",
              "  <button class=\"colab-df-quickchart\" onclick=\"quickchart('df-136bf88b-f4a2-4a62-b50b-b097bf65f72e')\"\n",
              "            title=\"Suggest charts\"\n",
              "            style=\"display:none;\">\n",
              "\n",
              "<svg xmlns=\"http://www.w3.org/2000/svg\" height=\"24px\"viewBox=\"0 0 24 24\"\n",
              "     width=\"24px\">\n",
              "    <g>\n",
              "        <path d=\"M19 3H5c-1.1 0-2 .9-2 2v14c0 1.1.9 2 2 2h14c1.1 0 2-.9 2-2V5c0-1.1-.9-2-2-2zM9 17H7v-7h2v7zm4 0h-2V7h2v10zm4 0h-2v-4h2v4z\"/>\n",
              "    </g>\n",
              "</svg>\n",
              "  </button>\n",
              "\n",
              "<style>\n",
              "  .colab-df-quickchart {\n",
              "      --bg-color: #E8F0FE;\n",
              "      --fill-color: #1967D2;\n",
              "      --hover-bg-color: #E2EBFA;\n",
              "      --hover-fill-color: #174EA6;\n",
              "      --disabled-fill-color: #AAA;\n",
              "      --disabled-bg-color: #DDD;\n",
              "  }\n",
              "\n",
              "  [theme=dark] .colab-df-quickchart {\n",
              "      --bg-color: #3B4455;\n",
              "      --fill-color: #D2E3FC;\n",
              "      --hover-bg-color: #434B5C;\n",
              "      --hover-fill-color: #FFFFFF;\n",
              "      --disabled-bg-color: #3B4455;\n",
              "      --disabled-fill-color: #666;\n",
              "  }\n",
              "\n",
              "  .colab-df-quickchart {\n",
              "    background-color: var(--bg-color);\n",
              "    border: none;\n",
              "    border-radius: 50%;\n",
              "    cursor: pointer;\n",
              "    display: none;\n",
              "    fill: var(--fill-color);\n",
              "    height: 32px;\n",
              "    padding: 0;\n",
              "    width: 32px;\n",
              "  }\n",
              "\n",
              "  .colab-df-quickchart:hover {\n",
              "    background-color: var(--hover-bg-color);\n",
              "    box-shadow: 0 1px 2px rgba(60, 64, 67, 0.3), 0 1px 3px 1px rgba(60, 64, 67, 0.15);\n",
              "    fill: var(--button-hover-fill-color);\n",
              "  }\n",
              "\n",
              "  .colab-df-quickchart-complete:disabled,\n",
              "  .colab-df-quickchart-complete:disabled:hover {\n",
              "    background-color: var(--disabled-bg-color);\n",
              "    fill: var(--disabled-fill-color);\n",
              "    box-shadow: none;\n",
              "  }\n",
              "\n",
              "  .colab-df-spinner {\n",
              "    border: 2px solid var(--fill-color);\n",
              "    border-color: transparent;\n",
              "    border-bottom-color: var(--fill-color);\n",
              "    animation:\n",
              "      spin 1s steps(1) infinite;\n",
              "  }\n",
              "\n",
              "  @keyframes spin {\n",
              "    0% {\n",
              "      border-color: transparent;\n",
              "      border-bottom-color: var(--fill-color);\n",
              "      border-left-color: var(--fill-color);\n",
              "    }\n",
              "    20% {\n",
              "      border-color: transparent;\n",
              "      border-left-color: var(--fill-color);\n",
              "      border-top-color: var(--fill-color);\n",
              "    }\n",
              "    30% {\n",
              "      border-color: transparent;\n",
              "      border-left-color: var(--fill-color);\n",
              "      border-top-color: var(--fill-color);\n",
              "      border-right-color: var(--fill-color);\n",
              "    }\n",
              "    40% {\n",
              "      border-color: transparent;\n",
              "      border-right-color: var(--fill-color);\n",
              "      border-top-color: var(--fill-color);\n",
              "    }\n",
              "    60% {\n",
              "      border-color: transparent;\n",
              "      border-right-color: var(--fill-color);\n",
              "    }\n",
              "    80% {\n",
              "      border-color: transparent;\n",
              "      border-right-color: var(--fill-color);\n",
              "      border-bottom-color: var(--fill-color);\n",
              "    }\n",
              "    90% {\n",
              "      border-color: transparent;\n",
              "      border-bottom-color: var(--fill-color);\n",
              "    }\n",
              "  }\n",
              "</style>\n",
              "\n",
              "  <script>\n",
              "    async function quickchart(key) {\n",
              "      const quickchartButtonEl =\n",
              "        document.querySelector('#' + key + ' button');\n",
              "      quickchartButtonEl.disabled = true;  // To prevent multiple clicks.\n",
              "      quickchartButtonEl.classList.add('colab-df-spinner');\n",
              "      try {\n",
              "        const charts = await google.colab.kernel.invokeFunction(\n",
              "            'suggestCharts', [key], {});\n",
              "      } catch (error) {\n",
              "        console.error('Error during call to suggestCharts:', error);\n",
              "      }\n",
              "      quickchartButtonEl.classList.remove('colab-df-spinner');\n",
              "      quickchartButtonEl.classList.add('colab-df-quickchart-complete');\n",
              "    }\n",
              "    (() => {\n",
              "      let quickchartButtonEl =\n",
              "        document.querySelector('#df-136bf88b-f4a2-4a62-b50b-b097bf65f72e button');\n",
              "      quickchartButtonEl.style.display =\n",
              "        google.colab.kernel.accessAllowed ? 'block' : 'none';\n",
              "    })();\n",
              "  </script>\n",
              "</div>\n",
              "    </div>\n",
              "  </div>\n"
            ]
          },
          "metadata": {},
          "execution_count": 6
        }
      ]
    },
    {
      "cell_type": "code",
      "source": [
        "# Filtrando o df para que nao contenha a marca 'bar'\n",
        "df = df[~df.marca.str.contains('bar')]"
      ],
      "metadata": {
        "id": "mv_CyOwpadD8"
      },
      "execution_count": 7,
      "outputs": []
    },
    {
      "cell_type": "code",
      "source": [
        "# Criando coluna para uma tupla de descricao e valor (adapte ao seu contexto)\n",
        "df['descricao'] = df.nome + df.cor + df.marca\n",
        "df['item'] = list(zip(df.descricao, df.valor))"
      ],
      "metadata": {
        "id": "FUjuNZpDcA-r"
      },
      "execution_count": null,
      "outputs": []
    },
    {
      "cell_type": "code",
      "source": [
        "# Apresentando o dataframe resultante\n",
        "print(df)"
      ],
      "metadata": {
        "colab": {
          "base_uri": "https://localhost:8080/"
        },
        "id": "iMCJrwwg4Mjh",
        "outputId": "1b8ee880-e2ed-4143-a6e1-0a2798f81682"
      },
      "execution_count": 9,
      "outputs": [
        {
          "output_type": "stream",
          "name": "stdout",
          "text": [
            "        nome        cor     marca  valor                descricao  \\\n",
            "0      Lapis      Verde       bic   11,1          Lapis Verde bic   \n",
            "1     Caneta   Vermelho   cristal  12,25  Caneta Vermelho cristal   \n",
            "2  Lapiseira       Azul       foo  15,45       Lapiseira Azul foo   \n",
            "3      Lapis      Verde       foo  12,00          Lapis Verde foo   \n",
            "\n",
            "                               item  \n",
            "0           (Lapis Verde bic, 11,1)  \n",
            "1  (Caneta Vermelho cristal, 12,25)  \n",
            "2       (Lapiseira Azul foo, 15,45)  \n",
            "3          (Lapis Verde foo, 12,00)  \n"
          ]
        }
      ]
    },
    {
      "cell_type": "markdown",
      "source": [
        "O próximo passo é combinar os itens em uma lista:"
      ],
      "metadata": {
        "id": "PZ2JMWS54bX4"
      }
    },
    {
      "cell_type": "code",
      "source": [
        "# Fazendo as combinacoes\n",
        "combs = list(combinations(df.item, 2))\n",
        "\n",
        "# Apresentando as combinacoes\n",
        "print(combs)"
      ],
      "metadata": {
        "id": "4MzDGsVP4MzM"
      },
      "execution_count": null,
      "outputs": []
    },
    {
      "cell_type": "markdown",
      "source": [
        "Finalmente percorremos a lista das combinacoes, selecionando as que atendem à condição, no caso soma dos valores <= 25"
      ],
      "metadata": {
        "id": "E1JS6_MI4wOz"
      }
    },
    {
      "cell_type": "code",
      "source": [
        "# Selecionando as combinacoes validas\n",
        "valid_combs = []\n",
        "max_value = 25\n",
        "for comb in combs:\n",
        "    if float(comb[0][1]) + float(comb[1][1]) <= max_value:\n",
        "        valid_combs.append(comb)\n",
        "\n",
        "# Apresentando o resultado\n",
        "print(valid_combs)"
      ],
      "metadata": {
        "id": "W3yp2Cu54M82"
      },
      "execution_count": null,
      "outputs": []
    },
    {
      "cell_type": "markdown",
      "source": [
        "Colocando o resultado final em um pandas.DataFrame:"
      ],
      "metadata": {
        "id": "hyFpM-O05AGR"
      }
    },
    {
      "cell_type": "code",
      "source": [
        "final_list = []\n",
        "for valid in valid_combs:\n",
        "    final_list.append((valid[0][0],valid[0][1], valid[1][0],valid[1][1],\n",
        "                       float(valid[0][1])+float(valid[1][1])))\n",
        "\n",
        "df_final = pd.DataFrame(final_list, columns=['Item 1', 'Valor',\n",
        "                                              'Item 2', 'Valor', 'Total'])\n",
        "\n",
        "# Apresentando o resultado final\n",
        "print(df_final)"
      ],
      "metadata": {
        "id": "EovWJcw95D9v"
      },
      "execution_count": null,
      "outputs": []
    }
  ]
}